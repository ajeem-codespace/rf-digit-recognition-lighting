{
 "cells": [
  {
   "cell_type": "markdown",
   "id": "a0331ba1-29b8-4f37-a155-838ff1f9a5dd",
   "metadata": {},
   "source": [
    "#### Importing Necessary Libraries"
   ]
  },
  {
   "cell_type": "code",
   "execution_count": 1,
   "id": "3acdca04-0030-4285-91b7-2bd3412308ca",
   "metadata": {},
   "outputs": [],
   "source": [
    "import numpy as np\n",
    "import pandas as pd\n",
    "from sklearn.datasets import fetch_openml\n",
    "from sklearn.model_selection import train_test_split\n",
    "from sklearn.ensemble import RandomForestClassifier\n",
    "from sklearn import metrics\n",
    "import joblib\n",
    "import matplotlib.pyplot as plt\n",
    "import seaborn as sns\n",
    "import joblib\n",
    "import cv2\n",
    "import random"
   ]
  },
  {
   "cell_type": "code",
   "execution_count": 2,
   "id": "db7534ad-147a-4313-aaaf-9c682edfd137",
   "metadata": {},
   "outputs": [],
   "source": [
    "np.random.seed(42)"
   ]
  },
  {
   "cell_type": "markdown",
   "id": "81e26280-d623-4ac7-bf11-766c7c3af7b0",
   "metadata": {},
   "source": [
    "#### Data Loading and Basic EDA"
   ]
  },
  {
   "cell_type": "code",
   "execution_count": 3,
   "id": "7aa74f6b-f2c1-4798-b2b9-4b8a0928abbd",
   "metadata": {},
   "outputs": [],
   "source": [
    "mnist_data = fetch_openml('mnist_784', version=1, as_frame=False, parser='auto')"
   ]
  },
  {
   "cell_type": "code",
   "execution_count": 4,
   "id": "9de269da-3164-44d4-8179-3a0c59990fe5",
   "metadata": {},
   "outputs": [],
   "source": [
    "X_mnist_raw = mnist_data.data  \n",
    "y_mnist_raw_str = mnist_data.target # Labels are initially strings\n",
    "\n",
    "y_mnist = y_mnist_raw_str.astype(np.uint8)"
   ]
  },
  {
   "cell_type": "code",
   "execution_count": 5,
   "id": "0800bda6-4a53-46b0-a5a1-a42873e7be37",
   "metadata": {},
   "outputs": [
    {
     "name": "stdout",
     "output_type": "stream",
     "text": [
      "Shape of X_mnist_raw (features): (70000, 784)\n",
      "Shape of y_mnist (labels): (70000,)\n",
      "Min/Max pixel values in X_mnist_raw: 0/255\n",
      "Data type of X_mnist_raw: int64\n",
      "Data type of y_mnist: uint8\n"
     ]
    }
   ],
   "source": [
    "print(f\"Shape of X_mnist_raw (features): {X_mnist_raw.shape}\") \n",
    "print(f\"Shape of y_mnist (labels): {y_mnist.shape}\")   \n",
    "print(f\"Min/Max pixel values in X_mnist_raw: {X_mnist_raw.min()}/{X_mnist_raw.max()}\")\n",
    "print(f\"Data type of X_mnist_raw: {X_mnist_raw.dtype}\")\n",
    "print(f\"Data type of y_mnist: {y_mnist.dtype}\")"
   ]
  },
  {
   "cell_type": "code",
   "execution_count": 6,
   "id": "96b318f7-8961-4733-8c47-efcc0bcc9d19",
   "metadata": {},
   "outputs": [
    {
     "data": {
      "image/png": "[encoded data removed]",
      "text/plain": [
       "<Figure size 600x300 with 10 Axes>"
      ]
     },
     "metadata": {},
     "output_type": "display_data"
    }
   ],
   "source": [
    "fig, axes = plt.subplots(2, 5, figsize=(6, 3)) \n",
    "axes = axes.flatten()\n",
    "for i, ax in enumerate(axes):\n",
    "    image = X_mnist_raw[i].reshape(28, 28)\n",
    "    ax.imshow(image, cmap='gray_r')\n",
    "    ax.set_title(f\"Label: {y_mnist[i]}\")\n",
    "    ax.axis('off')\n",
    "\n",
    "plt.tight_layout()\n",
    "plt.show()"
   ]
  },
  {
   "cell_type": "markdown",
   "id": "263534f3-296a-49c4-9f19-c60ab2749829",
   "metadata": {},
   "source": [
    "#### Data Preprocessing"
   ]
  },
  {
   "cell_type": "code",
   "execution_count": 7,
   "id": "35fe28df-3f9e-478e-b8d4-7ddea4506e2a",
   "metadata": {},
   "outputs": [],
   "source": [
    "def preprocess_for_lighting(image_2d_uint8_0_255):\n",
    "    if image_2d_uint8_0_255.ndim != 2:\n",
    "        return None \n",
    "\n",
    "    # 1. Adaptive Thresholding\n",
    "    block_size = 11\n",
    "    C_value = 7\n",
    "    binary_image = cv2.adaptiveThreshold(\n",
    "        image_2d_uint8_0_255,\n",
    "        255,\n",
    "        cv2.ADAPTIVE_THRESH_GAUSSIAN_C,\n",
    "        cv2.THRESH_BINARY_INV,\n",
    "        block_size,\n",
    "        C_value\n",
    "    )\n",
    "\n",
    "    # 2. Normalize to 0-1\n",
    "    processed_image_normalized_2d = binary_image / 255.0\n",
    "\n",
    "    # 3. Flatten for Random Forest\n",
    "    flattened_image = processed_image_normalized_2d.flatten()\n",
    "    \n",
    "    return flattened_image\n",
    "\n"
   ]
  },
  {
   "cell_type": "markdown",
   "id": "c22cb8fe-bacf-4c00-a1f5-73bc9392bda0",
   "metadata": {},
   "source": [
    "Testing the preprocessor function"
   ]
  },
  {
   "cell_type": "code",
   "execution_count": 8,
   "id": "64942bbd-4196-450f-9cbd-184276d814f0",
   "metadata": {},
   "outputs": [],
   "source": [
    "sample_idx = 10 \n",
    "raw_mnist_sample_flat = X_mnist_raw[sample_idx] #sample digit for preprocessing\n",
    "    \n",
    "\n",
    "raw_mnist_sample_2d = raw_mnist_sample_flat.reshape(28, 28)\n",
    "raw_mnist_sample_2d_uint8 = raw_mnist_sample_2d.astype(np.uint8) \n",
    "\n",
    "# Preprocess \n",
    "processed_flat_digit = preprocess_for_lighting(raw_mnist_sample_2d_uint8)\n"
   ]
  },
  {
   "cell_type": "code",
   "execution_count": 9,
   "id": "f57999ea-16b6-465b-8208-7031f1147363",
   "metadata": {},
   "outputs": [
    {
     "data": {
      "image/png": "[encoded data removed]",
      "text/plain": [
       "<Figure size 800x400 with 2 Axes>"
      ]
     },
     "metadata": {},
     "output_type": "display_data"
    }
   ],
   "source": [
    "fig, axes = plt.subplots(1, 2, figsize=(8, 4))\n",
    "\n",
    "# Display original digit\n",
    "axes[0].imshow(raw_mnist_sample_2d_uint8, cmap='gray_r') # Or 'gray'\n",
    "axes[0].set_title(f\"Original Raw MNIST\")\n",
    "axes[0].axis('off')\n",
    "\n",
    "# Display the processed digit \n",
    "axes[1].imshow(processed_flat_digit.reshape(28, 28), cmap='gray') \n",
    "axes[1].set_title(\"After Preprocessing\")\n",
    "axes[1].axis('off')\n",
    "\n",
    "plt.tight_layout()\n",
    "plt.show()\n"
   ]
  },
  {
   "cell_type": "code",
   "execution_count": 10,
   "id": "83f48f4e-cb90-453f-9bfc-740420489ec4",
   "metadata": {},
   "outputs": [],
   "source": [
    "def adjust_brightness(image_2d_uint8, value=30):\n",
    "    bright_image = np.clip(image_2d_uint8.astype(np.int16) + value, 0, 255).astype(np.uint8)\n",
    "    return bright_image\n",
    "\n"
   ]
  },
  {
   "cell_type": "markdown",
   "id": "813306f4-3529-4eec-a043-f5763acad1ce",
   "metadata": {},
   "source": [
    "Testing the brightness adjustment function"
   ]
  },
  {
   "cell_type": "code",
   "execution_count": 11,
   "id": "ba6cd636-192f-47f3-ad50-6aec04356ce3",
   "metadata": {},
   "outputs": [],
   "source": [
    "#Test brightness adjustment and the imported preprocessor \n",
    "\n",
    "sample_idx = 7 # Choose a sample\n",
    "original_flat = X_mnist_raw[sample_idx]\n",
    "original_2d_uint8 = original_flat.reshape(28, 28).astype(np.uint8)\n",
    "\n",
    "# Make it brighter\n",
    "brighter_digit = adjust_brightness(original_2d_uint8, value=70)\n",
    "# Make it darker\n",
    "darker_digit = adjust_brightness(original_2d_uint8, value=-70)\n",
    "\n",
    "processed_original = preprocess_for_lighting(original_2d_uint8) \n",
    "processed_brighter = preprocess_for_lighting(brighter_digit) \n",
    "processed_darker = preprocess_for_lighting(darker_digit)   "
   ]
  },
  {
   "cell_type": "code",
   "execution_count": 12,
   "id": "faed72cc-7c72-473b-9661-b666d162af02",
   "metadata": {},
   "outputs": [
    {
     "data": {
      "image/png": "[encoded data removed]",
      "text/plain": [
       "<Figure size 900x500 with 6 Axes>"
      ]
     },
     "metadata": {},
     "output_type": "display_data"
    }
   ],
   "source": [
    "# Display\n",
    "fig, axes = plt.subplots(2, 3, figsize=(9, 5))\n",
    "    \n",
    "axes[0,0].imshow(original_2d_uint8, cmap='gray_r')\n",
    "axes[0,0].set_title(f\"Original\")\n",
    "axes[0,0].axis('off')\n",
    "\n",
    "axes[0,1].imshow(brighter_digit, cmap='gray_r')\n",
    "axes[0,1].set_title(\"Artificially Brightened\")\n",
    "axes[0,1].axis('off')\n",
    "\n",
    "axes[0,2].imshow(darker_digit, cmap='gray_r')\n",
    "axes[0,2].set_title(\"Artificially Darkened\")\n",
    "axes[0,2].axis('off')\n",
    "\n",
    "\n",
    "axes[1,0].imshow(processed_original.reshape(28,28), cmap='gray')\n",
    "axes[1,0].set_title(\"Processed Original\")\n",
    "axes[1,0].axis('off')\n",
    "\n",
    "axes[1,1].imshow(processed_brighter.reshape(28,28), cmap='gray')\n",
    "axes[1,1].set_title(\"Processed Brightened\")\n",
    "axes[1,1].axis('off')\n",
    "   \n",
    "axes[1,2].imshow(processed_darker.reshape(28,28), cmap='gray')\n",
    "axes[1,2].set_title(\"Processed Darkened\")\n",
    "axes[1,2].axis('off')\n",
    "    \n",
    "        \n",
    "plt.tight_layout()\n",
    "plt.show()"
   ]
  },
  {
   "cell_type": "code",
   "execution_count": 13,
   "id": "f9a36717-5ce9-4fb3-98d3-893c7218d5e4",
   "metadata": {},
   "outputs": [],
   "source": [
    "def adjust_contrast(image_2d_uint8, factor=1.5):\n",
    "    \n",
    "    image_float = image_2d_uint8.astype(np.float32)\n",
    "    mean_intensity = 128.0 \n",
    "    contrasted_image_float = factor * (image_float - mean_intensity) + mean_intensity #contrast adjustment: factor * (pixel - mean) + mean\n",
    "    contrasted_image_uint8 = np.clip(contrasted_image_float, 0, 255).astype(np.uint8)\n",
    "    \n",
    "    return contrasted_image_uint8"
   ]
  },
  {
   "cell_type": "markdown",
   "id": "0612d9bb-df31-4ca3-8acb-e02f14eb3046",
   "metadata": {},
   "source": [
    "Testing the contrast adjustment function"
   ]
  },
  {
   "cell_type": "code",
   "execution_count": 14,
   "id": "b68d70ba-eacf-4f12-aff2-6515d8f48764",
   "metadata": {},
   "outputs": [],
   "source": [
    "#Test contrast adjustment and the imported preprocessor\n",
    "\n",
    "sample_idx = 7 # Choose a sample \n",
    "original_flat = X_mnist_raw[sample_idx]\n",
    "original_2d_uint8 = original_flat.reshape(28, 28).astype(np.uint8)\n",
    "\n",
    "\n",
    "higher_contrast_digit = adjust_contrast(original_2d_uint8, factor=2.0) # Increase contrast\n",
    "lower_contrast_digit = adjust_contrast(original_2d_uint8, factor=0.5) # Decrease contrast\n",
    "\n",
    "processed_original = preprocess_for_lighting(original_2d_uint8)\n",
    "processed_higher_contrast = preprocess_for_lighting(higher_contrast_digit)\n",
    "processed_lower_contrast = preprocess_for_lighting(lower_contrast_digit)"
   ]
  },
  {
   "cell_type": "code",
   "execution_count": 15,
   "id": "ade10c1d-79ba-4801-8287-33629a2f6fb6",
   "metadata": {},
   "outputs": [
    {
     "data": {
      "image/png": "[encoded data removed]",
      "text/plain": [
       "<Figure size 900x500 with 6 Axes>"
      ]
     },
     "metadata": {},
     "output_type": "display_data"
    }
   ],
   "source": [
    "fig, axes = plt.subplots(2, 3, figsize=(9, 5))\n",
    "    \n",
    "axes[0,0].imshow(original_2d_uint8, cmap='gray_r')\n",
    "axes[0,0].set_title(f\"Original\")\n",
    "axes[0,0].axis('off')\n",
    "\n",
    "axes[0,1].imshow(higher_contrast_digit, cmap='gray_r')\n",
    "axes[0,1].set_title(\"Higher Contrast\")\n",
    "axes[0,1].axis('off')\n",
    "\n",
    "axes[0,2].imshow(lower_contrast_digit, cmap='gray_r')\n",
    "axes[0,2].set_title(\"Lower Contrast\")\n",
    "axes[0,2].axis('off')\n",
    "\n",
    "axes[1,0].imshow(processed_original.reshape(28,28), cmap='gray')\n",
    "axes[1,0].set_title(\"Processed Original\")\n",
    "axes[1,0].axis('off')\n",
    "\n",
    "    \n",
    "axes[1,1].imshow(processed_higher_contrast.reshape(28,28), cmap='gray')\n",
    "axes[1,1].set_title(\"Processed Higher Contrast\")\n",
    "axes[1,1].axis('off')\n",
    "   \n",
    "   \n",
    "axes[1,2].imshow(processed_lower_contrast.reshape(28,28), cmap='gray')\n",
    "axes[1,2].set_title(\"Processed Lower Contrast\")\n",
    "axes[1,2].axis('off')\n",
    "\n",
    "plt.tight_layout()\n",
    "plt.show()"
   ]
  },
  {
   "cell_type": "code",
   "execution_count": 16,
   "id": "e53eda91-ebb2-4163-a8e0-8c4916f0a105",
   "metadata": {},
   "outputs": [],
   "source": [
    "def augment_and_preprocess_image(raw_image_2d_uint8,\n",
    "                                 augmentation_probability=0.75,\n",
    "                                 brightness_range=(-80, 80),\n",
    "                                 contrast_range=(0.5, 2.0)):\n",
    "    augmented_image_for_viz = None # For visualizing the intermediate augmentation\n",
    "    image_to_process = raw_image_2d_uint8.copy() # Start with a copy\n",
    "\n",
    "    if random.random() < augmentation_probability:\n",
    "        # Apply an augmentation\n",
    "        augmentation_type = random.choice(['brightness', 'contrast'])\n",
    "\n",
    "        if augmentation_type == 'brightness':\n",
    "            b_value = random.randint(brightness_range[0], brightness_range[1])\n",
    "            image_to_process = adjust_brightness(image_to_process, value=b_value)\n",
    "\n",
    "        elif augmentation_type == 'contrast':\n",
    "            c_factor = random.uniform(contrast_range[0], contrast_range[1])\n",
    "            image_to_process = adjust_contrast(image_to_process, factor=c_factor)\n",
    "        \n",
    "        augmented_image_for_viz = image_to_process.copy() # Save for visualization\n",
    "\n",
    "    final_processed_flat_image = preprocess_for_lighting(image_to_process)\n",
    "\n",
    "    return final_processed_flat_image, augmented_image_for_viz"
   ]
  },
  {
   "cell_type": "code",
   "execution_count": 17,
   "id": "e0c94560-5508-4b9a-862d-0a35729f10fe",
   "metadata": {},
   "outputs": [
    {
     "ename": "SyntaxError",
     "evalue": "invalid syntax (3073866063.py, line 1)",
     "output_type": "error",
     "traceback": [
      "\u001b[0;36m  Cell \u001b[0;32mIn[17], line 1\u001b[0;36m\u001b[0m\n\u001b[0;31m    Testing the master augmentation pipeline\u001b[0m\n\u001b[0m            ^\u001b[0m\n\u001b[0;31mSyntaxError\u001b[0m\u001b[0;31m:\u001b[0m invalid syntax\n"
     ]
    }
   ],
   "source": [
    "Testing the master augmentation pipeline"
   ]
  },
  {
   "cell_type": "code",
   "execution_count": null,
   "id": "98a0b9d4-92d7-457e-a43a-925df9ebdaf4",
   "metadata": {},
   "outputs": [],
   "source": [
    "# Testing master augmentation and preprocessing pipeline \n",
    "\n",
    "num_test_samples = 5\n",
    "fig, axes = plt.subplots(num_test_samples, 3, figsize=(6, 3 * num_test_samples))\n",
    "plt.suptitle(\"Master Augmentation & Preprocessing Pipeline Test\", fontsize=16) \n",
    "\n",
    "for i in range(num_test_samples):\n",
    "    sample_idx = random.randint(0, X_mnist_raw.shape[0] - 1) #random MNIST digit\n",
    "    original_flat = X_mnist_raw[sample_idx]\n",
    "    original_2d_uint8 = original_flat.reshape(28, 28).astype(np.uint8)\n",
    "    \n",
    "    # Apply the full pipeline\n",
    "    processed_features, intermediate_augmented_viz = augment_and_preprocess_image(original_2d_uint8)\n",
    "\n",
    "    # Plot original\n",
    "    current_ax_orig = axes[i, 0]\n",
    "    current_ax_orig.imshow(original_2d_uint8, cmap='gray_r')\n",
    "    current_ax_orig.set_title(f\"Original\")\n",
    "    current_ax_orig.axis('off')\n",
    "\n",
    "    # Plot intermediate augmented \n",
    "    current_ax_aug = axes[i, 1]\n",
    "    if intermediate_augmented_viz is not None:\n",
    "        current_ax_aug.imshow(intermediate_augmented_viz, cmap='gray_r')\n",
    "        current_ax_aug.set_title(\"Intermediate Augmentation\")\n",
    "    else:\n",
    "        current_ax_aug.set_title(\"No Augmentation Applied\")\n",
    "    current_ax_aug.axis('off')\n",
    "\n",
    "    # Plot final processed output\n",
    "    current_ax_proc = axes[i, 2]\n",
    "    \n",
    "    current_ax_proc.imshow(processed_features.reshape(28, 28), cmap='gray')\n",
    "    current_ax_proc.set_title(\"Final Processed for RF\")\n",
    "\n",
    "        \n",
    "\n",
    "plt.tight_layout(rect=[0, 0, 1, 0.96]) \n",
    "plt.show()\n"
   ]
  },
  {
   "cell_type": "markdown",
   "id": "4e63ae8b-4c63-41f1-ae53-acb8347e86ec",
   "metadata": {},
   "source": [
    "#### Augmented Training Set Generation"
   ]
  },
  {
   "cell_type": "code",
   "execution_count": 18,
   "id": "59c5ccdc-c99d-490f-9e16-dbb7048e102c",
   "metadata": {},
   "outputs": [],
   "source": [
    "# train - test - split\n",
    "\n",
    "X_train_base, X_test_base, y_train_base, y_test_base = train_test_split(\n",
    "        X_mnist_raw,\n",
    "        y_mnist,\n",
    "        test_size=0.2,      \n",
    "        random_state=42,    \n",
    "        stratify=y_mnist    \n",
    "    )"
   ]
  },
  {
   "cell_type": "code",
   "execution_count": 19,
   "id": "8fccd534-9361-409e-ae77-dc0b19e016d9",
   "metadata": {},
   "outputs": [
    {
     "name": "stdout",
     "output_type": "stream",
     "text": [
      "X_train_base shape: (56000, 784), y_train_base shape: (56000,)\n",
      "X_test_base shape: (14000, 784), y_test_base shape: (14000,)\n"
     ]
    }
   ],
   "source": [
    "print(f\"X_train_base shape: {X_train_base.shape}, y_train_base shape: {y_train_base.shape}\")\n",
    "print(f\"X_test_base shape: {X_test_base.shape}, y_test_base shape: {y_test_base.shape}\")\n"
   ]
  },
  {
   "cell_type": "code",
   "execution_count": 20,
   "id": "6114f635-45a0-45b8-97fc-eb61595caa32",
   "metadata": {},
   "outputs": [
    {
     "name": "stdout",
     "output_type": "stream",
     "text": [
      "Processed 5000 / 56000 images for training set...\n",
      "Processed 10000 / 56000 images for training set...\n",
      "Processed 15000 / 56000 images for training set...\n",
      "Processed 20000 / 56000 images for training set...\n",
      "Processed 25000 / 56000 images for training set...\n",
      "Processed 30000 / 56000 images for training set...\n",
      "Processed 35000 / 56000 images for training set...\n",
      "Processed 40000 / 56000 images for training set...\n",
      "Processed 45000 / 56000 images for training set...\n",
      "Processed 50000 / 56000 images for training set...\n",
      "Processed 55000 / 56000 images for training set...\n",
      "Shape of X_train_final: (56000, 784)\n",
      "Shape of y_train_final: (56000,)\n"
     ]
    }
   ],
   "source": [
    "X_train_final_list = []\n",
    "y_train_final_list = [] # copy of y_train_base\n",
    "\n",
    "# Loop through each image in the base training set\n",
    "for i in range(X_train_base.shape[0]):\n",
    "    raw_image_flat = X_train_base[i]\n",
    "    label = y_train_base[i]\n",
    "\n",
    "    # Reshape to 2D and ensure uint8 type\n",
    "    image_2d_uint8 = raw_image_flat.reshape(28, 28).astype(np.uint8)\n",
    "\n",
    "    processed_features, _ = augment_and_preprocess_image(image_2d_uint8)\n",
    "\n",
    "        \n",
    "    X_train_final_list.append(processed_features)\n",
    "    y_train_final_list.append(label)\n",
    "    \n",
    "    #Print progress\n",
    "    if (i + 1) % 5000 == 0: # Print every 5000 images\n",
    "        print(f\"Processed {i + 1} / {X_train_base.shape[0]} images for training set...\")\n",
    "\n",
    "# Convert the lists to NumPy arrays\n",
    "X_train_final = np.array(X_train_final_list)\n",
    "y_train_final = np.array(y_train_final_list)\n",
    "\n",
    "print(f\"Shape of X_train_final: {X_train_final.shape}\")\n",
    "print(f\"Shape of y_train_final: {y_train_final.shape}\") \n"
   ]
  },
  {
   "cell_type": "markdown",
   "id": "149767ef-643b-4f52-a385-7ae971d8d6da",
   "metadata": {},
   "source": [
    "only the robust preprocessing and no random augmentations for final test set"
   ]
  },
  {
   "cell_type": "code",
   "execution_count": 21,
   "id": "9c36383d-44eb-49dd-b635-2f3f47920857",
   "metadata": {},
   "outputs": [
    {
     "name": "stdout",
     "output_type": "stream",
     "text": [
      "Processed 2000 / 14000 images for test set...\n",
      "Processed 4000 / 14000 images for test set...\n",
      "Processed 6000 / 14000 images for test set...\n",
      "Processed 8000 / 14000 images for test set...\n",
      "Processed 10000 / 14000 images for test set...\n",
      "Processed 12000 / 14000 images for test set...\n",
      "Processed 14000 / 14000 images for test set...\n",
      "Shape of X_test_final: (14000, 784)\n",
      "Shape of y_test_final: (14000,)\n"
     ]
    }
   ],
   "source": [
    "X_test_final_list = []\n",
    "y_test_final_list = [] # This will essentially be a copy of y_test_base\n",
    "\n",
    "# Loop through each image in the base test set\n",
    "for i in range(X_test_base.shape[0]):\n",
    "    raw_image_flat = X_test_base[i]\n",
    "    label = y_test_base[i]\n",
    "\n",
    "    # Reshape to 2D and ensure uint8 type\n",
    "    image_2d_uint8 = raw_image_flat.reshape(28, 28).astype(np.uint8)\n",
    "\n",
    "    processed_features = preprocess_for_lighting(image_2d_uint8) # Use your function name here\n",
    "\n",
    "    if processed_features is not None:\n",
    "        X_test_final_list.append(processed_features)\n",
    "        y_test_final_list.append(label)\n",
    "   \n",
    "    #Print progress\n",
    "    if (i + 1) % 2000 == 0: # Print every 2000 images \n",
    "        print(f\"Processed {i + 1} / {X_test_base.shape[0]} images for test set...\")\n",
    "\n",
    "# Convert the lists to NumPy arrays\n",
    "X_test_final = np.array(X_test_final_list)\n",
    "y_test_final = np.array(y_test_final_list)\n",
    "\n",
    "    \n",
    "print(f\"Shape of X_test_final: {X_test_final.shape}\")\n",
    "print(f\"Shape of y_test_final: {y_test_final.shape}\")"
   ]
  },
  {
   "cell_type": "markdown",
   "id": "4f5af937-d425-4938-b78f-89ed53cdb389",
   "metadata": {},
   "source": [
    "#### Model Development and Training"
   ]
  },
  {
   "cell_type": "code",
   "execution_count": 22,
   "id": "bdfeac56-fcdb-4ea0-ada8-d2584c13e6d1",
   "metadata": {},
   "outputs": [
    {
     "name": "stderr",
     "output_type": "stream",
     "text": [
      "[Parallel(n_jobs=-1)]: Using backend ThreadingBackend with 8 concurrent workers.\n",
      "[Parallel(n_jobs=-1)]: Done  34 tasks      | elapsed:    1.1s\n",
      "[Parallel(n_jobs=-1)]: Done 100 out of 100 | elapsed:    3.1s finished\n"
     ]
    },
    {
     "data": {
      "text/html": [
       "<style>#sk-container-id-1 {\n",
       "  /* Definition of color scheme common for light and dark mode */\n",
       "  --sklearn-color-text: #000;\n",
       "  --sklearn-color-text-muted: #666;\n",
       "  --sklearn-color-line: gray;\n",
       "  /* Definition of color scheme for unfitted estimators */\n",
       "  --sklearn-color-unfitted-level-0: #fff5e6;\n",
       "  --sklearn-color-unfitted-level-1: #f6e4d2;\n",
       "  --sklearn-color-unfitted-level-2: #ffe0b3;\n",
       "  --sklearn-color-unfitted-level-3: chocolate;\n",
       "  /* Definition of color scheme for fitted estimators */\n",
       "  --sklearn-color-fitted-level-0: #f0f8ff;\n",
       "  --sklearn-color-fitted-level-1: #d4ebff;\n",
       "  --sklearn-color-fitted-level-2: #b3dbfd;\n",
       "  --sklearn-color-fitted-level-3: cornflowerblue;\n",
       "\n",
       "  /* Specific color for light theme */\n",
       "  --sklearn-color-text-on-default-background: var(--sg-text-color, var(--theme-code-foreground, var(--jp-content-font-color1, black)));\n",
       "  --sklearn-color-background: var(--sg-background-color, var(--theme-background, var(--jp-layout-color0, white)));\n",
       "  --sklearn-color-border-box: var(--sg-text-color, var(--theme-code-foreground, var(--jp-content-font-color1, black)));\n",
       "  --sklearn-color-icon: #696969;\n",
       "\n",
       "  @media (prefers-color-scheme: dark) {\n",
       "    /* Redefinition of color scheme for dark theme */\n",
       "    --sklearn-color-text-on-default-background: var(--sg-text-color, var(--theme-code-foreground, var(--jp-content-font-color1, white)));\n",
       "    --sklearn-color-background: var(--sg-background-color, var(--theme-background, var(--jp-layout-color0, #111)));\n",
       "    --sklearn-color-border-box: var(--sg-text-color, var(--theme-code-foreground, var(--jp-content-font-color1, white)));\n",
       "    --sklearn-color-icon: #878787;\n",
       "  }\n",
       "}\n",
       "\n",
       "#sk-container-id-1 {\n",
       "  color: var(--sklearn-color-text);\n",
       "}\n",
       "\n",
       "#sk-container-id-1 pre {\n",
       "  padding: 0;\n",
       "}\n",
       "\n",
       "#sk-container-id-1 input.sk-hidden--visually {\n",
       "  border: 0;\n",
       "  clip: rect(1px 1px 1px 1px);\n",
       "  clip: rect(1px, 1px, 1px, 1px);\n",
       "  height: 1px;\n",
       "  margin: -1px;\n",
       "  overflow: hidden;\n",
       "  padding: 0;\n",
       "  position: absolute;\n",
       "  width: 1px;\n",
       "}\n",
       "\n",
       "#sk-container-id-1 div.sk-dashed-wrapped {\n",
       "  border: 1px dashed var(--sklearn-color-line);\n",
       "  margin: 0 0.4em 0.5em 0.4em;\n",
       "  box-sizing: border-box;\n",
       "  padding-bottom: 0.4em;\n",
       "  background-color: var(--sklearn-color-background);\n",
       "}\n",
       "\n",
       "#sk-container-id-1 div.sk-container {\n",
       "  /* jupyter's `normalize.less` sets `[hidden] { display: none; }`\n",
       "     but bootstrap.min.css set `[hidden] { display: none !important; }`\n",
       "     so we also need the `!important` here to be able to override the\n",
       "     default hidden behavior on the sphinx rendered scikit-learn.org.\n",
       "     See: https://github.com/scikit-learn/scikit-learn/issues/21755 */\n",
       "  display: inline-block !important;\n",
       "  position: relative;\n",
       "}\n",
       "\n",
       "#sk-container-id-1 div.sk-text-repr-fallback {\n",
       "  display: none;\n",
       "}\n",
       "\n",
       "div.sk-parallel-item,\n",
       "div.sk-serial,\n",
       "div.sk-item {\n",
       "  /* draw centered vertical line to link estimators */\n",
       "  background-image: linear-gradient(var(--sklearn-color-text-on-default-background), var(--sklearn-color-text-on-default-background));\n",
       "  background-size: 2px 100%;\n",
       "  background-repeat: no-repeat;\n",
       "  background-position: center center;\n",
       "}\n",
       "\n",
       "/* Parallel-specific style estimator block */\n",
       "\n",
       "#sk-container-id-1 div.sk-parallel-item::after {\n",
       "  content: \"\";\n",
       "  width: 100%;\n",
       "  border-bottom: 2px solid var(--sklearn-color-text-on-default-background);\n",
       "  flex-grow: 1;\n",
       "}\n",
       "\n",
       "#sk-container-id-1 div.sk-parallel {\n",
       "  display: flex;\n",
       "  align-items: stretch;\n",
       "  justify-content: center;\n",
       "  background-color: var(--sklearn-color-background);\n",
       "  position: relative;\n",
       "}\n",
       "\n",
       "#sk-container-id-1 div.sk-parallel-item {\n",
       "  display: flex;\n",
       "  flex-direction: column;\n",
       "}\n",
       "\n",
       "#sk-container-id-1 div.sk-parallel-item:first-child::after {\n",
       "  align-self: flex-end;\n",
       "  width: 50%;\n",
       "}\n",
       "\n",
       "#sk-container-id-1 div.sk-parallel-item:last-child::after {\n",
       "  align-self: flex-start;\n",
       "  width: 50%;\n",
       "}\n",
       "\n",
       "#sk-container-id-1 div.sk-parallel-item:only-child::after {\n",
       "  width: 0;\n",
       "}\n",
       "\n",
       "/* Serial-specific style estimator block */\n",
       "\n",
       "#sk-container-id-1 div.sk-serial {\n",
       "  display: flex;\n",
       "  flex-direction: column;\n",
       "  align-items: center;\n",
       "  background-color: var(--sklearn-color-background);\n",
       "  padding-right: 1em;\n",
       "  padding-left: 1em;\n",
       "}\n",
       "\n",
       "\n",
       "/* Toggleable style: style used for estimator/Pipeline/ColumnTransformer box that is\n",
       "clickable and can be expanded/collapsed.\n",
       "- Pipeline and ColumnTransformer use this feature and define the default style\n",
       "- Estimators will overwrite some part of the style using the `sk-estimator` class\n",
       "*/\n",
       "\n",
       "/* Pipeline and ColumnTransformer style (default) */\n",
       "\n",
       "#sk-container-id-1 div.sk-toggleable {\n",
       "  /* Default theme specific background. It is overwritten whether we have a\n",
       "  specific estimator or a Pipeline/ColumnTransformer */\n",
       "  background-color: var(--sklearn-color-background);\n",
       "}\n",
       "\n",
       "/* Toggleable label */\n",
       "#sk-container-id-1 label.sk-toggleable__label {\n",
       "  cursor: pointer;\n",
       "  display: flex;\n",
       "  width: 100%;\n",
       "  margin-bottom: 0;\n",
       "  padding: 0.5em;\n",
       "  box-sizing: border-box;\n",
       "  text-align: center;\n",
       "  align-items: start;\n",
       "  justify-content: space-between;\n",
       "  gap: 0.5em;\n",
       "}\n",
       "\n",
       "#sk-container-id-1 label.sk-toggleable__label .caption {\n",
       "  font-size: 0.6rem;\n",
       "  font-weight: lighter;\n",
       "  color: var(--sklearn-color-text-muted);\n",
       "}\n",
       "\n",
       "#sk-container-id-1 label.sk-toggleable__label-arrow:before {\n",
       "  /* Arrow on the left of the label */\n",
       "  content: \"▸\";\n",
       "  float: left;\n",
       "  margin-right: 0.25em;\n",
       "  color: var(--sklearn-color-icon);\n",
       "}\n",
       "\n",
       "#sk-container-id-1 label.sk-toggleable__label-arrow:hover:before {\n",
       "  color: var(--sklearn-color-text);\n",
       "}\n",
       "\n",
       "/* Toggleable content - dropdown */\n",
       "\n",
       "#sk-container-id-1 div.sk-toggleable__content {\n",
       "  max-height: 0;\n",
       "  max-width: 0;\n",
       "  overflow: hidden;\n",
       "  text-align: left;\n",
       "  /* unfitted */\n",
       "  background-color: var(--sklearn-color-unfitted-level-0);\n",
       "}\n",
       "\n",
       "#sk-container-id-1 div.sk-toggleable__content.fitted {\n",
       "  /* fitted */\n",
       "  background-color: var(--sklearn-color-fitted-level-0);\n",
       "}\n",
       "\n",
       "#sk-container-id-1 div.sk-toggleable__content pre {\n",
       "  margin: 0.2em;\n",
       "  border-radius: 0.25em;\n",
       "  color: var(--sklearn-color-text);\n",
       "  /* unfitted */\n",
       "  background-color: var(--sklearn-color-unfitted-level-0);\n",
       "}\n",
       "\n",
       "#sk-container-id-1 div.sk-toggleable__content.fitted pre {\n",
       "  /* unfitted */\n",
       "  background-color: var(--sklearn-color-fitted-level-0);\n",
       "}\n",
       "\n",
       "#sk-container-id-1 input.sk-toggleable__control:checked~div.sk-toggleable__content {\n",
       "  /* Expand drop-down */\n",
       "  max-height: 200px;\n",
       "  max-width: 100%;\n",
       "  overflow: auto;\n",
       "}\n",
       "\n",
       "#sk-container-id-1 input.sk-toggleable__control:checked~label.sk-toggleable__label-arrow:before {\n",
       "  content: \"▾\";\n",
       "}\n",
       "\n",
       "/* Pipeline/ColumnTransformer-specific style */\n",
       "\n",
       "#sk-container-id-1 div.sk-label input.sk-toggleable__control:checked~label.sk-toggleable__label {\n",
       "  color: var(--sklearn-color-text);\n",
       "  background-color: var(--sklearn-color-unfitted-level-2);\n",
       "}\n",
       "\n",
       "#sk-container-id-1 div.sk-label.fitted input.sk-toggleable__control:checked~label.sk-toggleable__label {\n",
       "  background-color: var(--sklearn-color-fitted-level-2);\n",
       "}\n",
       "\n",
       "/* Estimator-specific style */\n",
       "\n",
       "/* Colorize estimator box */\n",
       "#sk-container-id-1 div.sk-estimator input.sk-toggleable__control:checked~label.sk-toggleable__label {\n",
       "  /* unfitted */\n",
       "  background-color: var(--sklearn-color-unfitted-level-2);\n",
       "}\n",
       "\n",
       "#sk-container-id-1 div.sk-estimator.fitted input.sk-toggleable__control:checked~label.sk-toggleable__label {\n",
       "  /* fitted */\n",
       "  background-color: var(--sklearn-color-fitted-level-2);\n",
       "}\n",
       "\n",
       "#sk-container-id-1 div.sk-label label.sk-toggleable__label,\n",
       "#sk-container-id-1 div.sk-label label {\n",
       "  /* The background is the default theme color */\n",
       "  color: var(--sklearn-color-text-on-default-background);\n",
       "}\n",
       "\n",
       "/* On hover, darken the color of the background */\n",
       "#sk-container-id-1 div.sk-label:hover label.sk-toggleable__label {\n",
       "  color: var(--sklearn-color-text);\n",
       "  background-color: var(--sklearn-color-unfitted-level-2);\n",
       "}\n",
       "\n",
       "/* Label box, darken color on hover, fitted */\n",
       "#sk-container-id-1 div.sk-label.fitted:hover label.sk-toggleable__label.fitted {\n",
       "  color: var(--sklearn-color-text);\n",
       "  background-color: var(--sklearn-color-fitted-level-2);\n",
       "}\n",
       "\n",
       "/* Estimator label */\n",
       "\n",
       "#sk-container-id-1 div.sk-label label {\n",
       "  font-family: monospace;\n",
       "  font-weight: bold;\n",
       "  display: inline-block;\n",
       "  line-height: 1.2em;\n",
       "}\n",
       "\n",
       "#sk-container-id-1 div.sk-label-container {\n",
       "  text-align: center;\n",
       "}\n",
       "\n",
       "/* Estimator-specific */\n",
       "#sk-container-id-1 div.sk-estimator {\n",
       "  font-family: monospace;\n",
       "  border: 1px dotted var(--sklearn-color-border-box);\n",
       "  border-radius: 0.25em;\n",
       "  box-sizing: border-box;\n",
       "  margin-bottom: 0.5em;\n",
       "  /* unfitted */\n",
       "  background-color: var(--sklearn-color-unfitted-level-0);\n",
       "}\n",
       "\n",
       "#sk-container-id-1 div.sk-estimator.fitted {\n",
       "  /* fitted */\n",
       "  background-color: var(--sklearn-color-fitted-level-0);\n",
       "}\n",
       "\n",
       "/* on hover */\n",
       "#sk-container-id-1 div.sk-estimator:hover {\n",
       "  /* unfitted */\n",
       "  background-color: var(--sklearn-color-unfitted-level-2);\n",
       "}\n",
       "\n",
       "#sk-container-id-1 div.sk-estimator.fitted:hover {\n",
       "  /* fitted */\n",
       "  background-color: var(--sklearn-color-fitted-level-2);\n",
       "}\n",
       "\n",
       "/* Specification for estimator info (e.g. \"i\" and \"?\") */\n",
       "\n",
       "/* Common style for \"i\" and \"?\" */\n",
       "\n",
       ".sk-estimator-doc-link,\n",
       "a:link.sk-estimator-doc-link,\n",
       "a:visited.sk-estimator-doc-link {\n",
       "  float: right;\n",
       "  font-size: smaller;\n",
       "  line-height: 1em;\n",
       "  font-family: monospace;\n",
       "  background-color: var(--sklearn-color-background);\n",
       "  border-radius: 1em;\n",
       "  height: 1em;\n",
       "  width: 1em;\n",
       "  text-decoration: none !important;\n",
       "  margin-left: 0.5em;\n",
       "  text-align: center;\n",
       "  /* unfitted */\n",
       "  border: var(--sklearn-color-unfitted-level-1) 1pt solid;\n",
       "  color: var(--sklearn-color-unfitted-level-1);\n",
       "}\n",
       "\n",
       ".sk-estimator-doc-link.fitted,\n",
       "a:link.sk-estimator-doc-link.fitted,\n",
       "a:visited.sk-estimator-doc-link.fitted {\n",
       "  /* fitted */\n",
       "  border: var(--sklearn-color-fitted-level-1) 1pt solid;\n",
       "  color: var(--sklearn-color-fitted-level-1);\n",
       "}\n",
       "\n",
       "/* On hover */\n",
       "div.sk-estimator:hover .sk-estimator-doc-link:hover,\n",
       ".sk-estimator-doc-link:hover,\n",
       "div.sk-label-container:hover .sk-estimator-doc-link:hover,\n",
       ".sk-estimator-doc-link:hover {\n",
       "  /* unfitted */\n",
       "  background-color: var(--sklearn-color-unfitted-level-3);\n",
       "  color: var(--sklearn-color-background);\n",
       "  text-decoration: none;\n",
       "}\n",
       "\n",
       "div.sk-estimator.fitted:hover .sk-estimator-doc-link.fitted:hover,\n",
       ".sk-estimator-doc-link.fitted:hover,\n",
       "div.sk-label-container:hover .sk-estimator-doc-link.fitted:hover,\n",
       ".sk-estimator-doc-link.fitted:hover {\n",
       "  /* fitted */\n",
       "  background-color: var(--sklearn-color-fitted-level-3);\n",
       "  color: var(--sklearn-color-background);\n",
       "  text-decoration: none;\n",
       "}\n",
       "\n",
       "/* Span, style for the box shown on hovering the info icon */\n",
       ".sk-estimator-doc-link span {\n",
       "  display: none;\n",
       "  z-index: 9999;\n",
       "  position: relative;\n",
       "  font-weight: normal;\n",
       "  right: .2ex;\n",
       "  padding: .5ex;\n",
       "  margin: .5ex;\n",
       "  width: min-content;\n",
       "  min-width: 20ex;\n",
       "  max-width: 50ex;\n",
       "  color: var(--sklearn-color-text);\n",
       "  box-shadow: 2pt 2pt 4pt #999;\n",
       "  /* unfitted */\n",
       "  background: var(--sklearn-color-unfitted-level-0);\n",
       "  border: .5pt solid var(--sklearn-color-unfitted-level-3);\n",
       "}\n",
       "\n",
       ".sk-estimator-doc-link.fitted span {\n",
       "  /* fitted */\n",
       "  background: var(--sklearn-color-fitted-level-0);\n",
       "  border: var(--sklearn-color-fitted-level-3);\n",
       "}\n",
       "\n",
       ".sk-estimator-doc-link:hover span {\n",
       "  display: block;\n",
       "}\n",
       "\n",
       "/* \"?\"-specific style due to the `<a>` HTML tag */\n",
       "\n",
       "#sk-container-id-1 a.estimator_doc_link {\n",
       "  float: right;\n",
       "  font-size: 1rem;\n",
       "  line-height: 1em;\n",
       "  font-family: monospace;\n",
       "  background-color: var(--sklearn-color-background);\n",
       "  border-radius: 1rem;\n",
       "  height: 1rem;\n",
       "  width: 1rem;\n",
       "  text-decoration: none;\n",
       "  /* unfitted */\n",
       "  color: var(--sklearn-color-unfitted-level-1);\n",
       "  border: var(--sklearn-color-unfitted-level-1) 1pt solid;\n",
       "}\n",
       "\n",
       "#sk-container-id-1 a.estimator_doc_link.fitted {\n",
       "  /* fitted */\n",
       "  border: var(--sklearn-color-fitted-level-1) 1pt solid;\n",
       "  color: var(--sklearn-color-fitted-level-1);\n",
       "}\n",
       "\n",
       "/* On hover */\n",
       "#sk-container-id-1 a.estimator_doc_link:hover {\n",
       "  /* unfitted */\n",
       "  background-color: var(--sklearn-color-unfitted-level-3);\n",
       "  color: var(--sklearn-color-background);\n",
       "  text-decoration: none;\n",
       "}\n",
       "\n",
       "#sk-container-id-1 a.estimator_doc_link.fitted:hover {\n",
       "  /* fitted */\n",
       "  background-color: var(--sklearn-color-fitted-level-3);\n",
       "}\n",
       "</style><div id=\"sk-container-id-1\" class=\"sk-top-container\"><div class=\"sk-text-repr-fallback\"><pre>RandomForestClassifier(n_jobs=-1, random_state=42, verbose=1)</pre><b>In a Jupyter environment, please rerun this cell to show the HTML representation or trust the notebook. <br />On GitHub, the HTML representation is unable to render, please try loading this page with nbviewer.org.</b></div><div class=\"sk-container\" hidden><div class=\"sk-item\"><div class=\"sk-estimator fitted sk-toggleable\"><input class=\"sk-toggleable__control sk-hidden--visually\" id=\"sk-estimator-id-1\" type=\"checkbox\" checked><label for=\"sk-estimator-id-1\" class=\"sk-toggleable__label fitted sk-toggleable__label-arrow\"><div><div>RandomForestClassifier</div></div><div><a class=\"sk-estimator-doc-link fitted\" rel=\"noreferrer\" target=\"_blank\" href=\"https://scikit-learn.org/1.6/modules/generated/sklearn.ensemble.RandomForestClassifier.html\">?<span>Documentation for RandomForestClassifier</span></a><span class=\"sk-estimator-doc-link fitted\">i<span>Fitted</span></span></div></label><div class=\"sk-toggleable__content fitted\"><pre>RandomForestClassifier(n_jobs=-1, random_state=42, verbose=1)</pre></div> </div></div></div></div>"
      ],
      "text/plain": [
       "RandomForestClassifier(n_jobs=-1, random_state=42, verbose=1)"
      ]
     },
     "execution_count": 22,
     "metadata": {},
     "output_type": "execute_result"
    }
   ],
   "source": [
    "# Initialize the Random Forest Classifier\n",
    "rf_classifier_final = RandomForestClassifier(n_estimators=100,\n",
    "                                         random_state=42,\n",
    "                                         n_jobs=-1, # Use all available cores\n",
    "                                         verbose=1) # Set verbose to 1 to see some progress from RF\n",
    "\n",
    "# Train the classifier\n",
    "rf_classifier_final.fit(X_train_final, y_train_final)"
   ]
  },
  {
   "cell_type": "markdown",
   "id": "39909da4-2ebf-4b64-81c8-dba547918b65",
   "metadata": {},
   "source": [
    "#### Evaluation "
   ]
  },
  {
   "cell_type": "code",
   "execution_count": 23,
   "id": "6a29442d-6d9b-4d35-8271-ba2a92b514ee",
   "metadata": {},
   "outputs": [
    {
     "name": "stderr",
     "output_type": "stream",
     "text": [
      "[Parallel(n_jobs=8)]: Using backend ThreadingBackend with 8 concurrent workers.\n",
      "[Parallel(n_jobs=8)]: Done  34 tasks      | elapsed:    0.0s\n",
      "[Parallel(n_jobs=8)]: Done 100 out of 100 | elapsed:    0.1s finished\n"
     ]
    }
   ],
   "source": [
    "y_pred_final = rf_classifier_final.predict(X_test_final)"
   ]
  },
  {
   "cell_type": "code",
   "execution_count": 25,
   "id": "9a7b4476-9ea9-4558-a03b-1169b9dbf9ed",
   "metadata": {},
   "outputs": [
    {
     "name": "stdout",
     "output_type": "stream",
     "text": [
      "\n",
      "Final Model Accuracy: 0.9590\n"
     ]
    }
   ],
   "source": [
    "#Accuracy Score\n",
    "accuracy_final = metrics.accuracy_score(y_test_final, y_pred_final)\n",
    "print(f\"\\nFinal Model Accuracy: {accuracy_final:.4f}\")"
   ]
  },
  {
   "cell_type": "code",
   "execution_count": 27,
   "id": "5cb64a56-f5f1-4c2d-a08f-c6ee2b90c85c",
   "metadata": {},
   "outputs": [
    {
     "name": "stdout",
     "output_type": "stream",
     "text": [
      "\n",
      "Final Model Classification Report:\n",
      "              precision    recall  f1-score   support\n",
      "\n",
      "           0       0.95      0.99      0.97      1381\n",
      "           1       0.99      0.98      0.98      1575\n",
      "           2       0.95      0.96      0.96      1398\n",
      "           3       0.95      0.95      0.95      1428\n",
      "           4       0.97      0.95      0.96      1365\n",
      "           5       0.97      0.93      0.95      1263\n",
      "           6       0.97      0.97      0.97      1375\n",
      "           7       0.97      0.96      0.96      1459\n",
      "           8       0.94      0.94      0.94      1365\n",
      "           9       0.93      0.94      0.94      1391\n",
      "\n",
      "    accuracy                           0.96     14000\n",
      "   macro avg       0.96      0.96      0.96     14000\n",
      "weighted avg       0.96      0.96      0.96     14000\n",
      "\n"
     ]
    }
   ],
   "source": [
    "#Classification Report\n",
    "print(\"\\nFinal Model Classification Report:\")\n",
    "print(metrics.classification_report(y_test_final, y_pred_final))"
   ]
  },
  {
   "cell_type": "code",
   "execution_count": 29,
   "id": "fbb86400-8664-42a9-b4aa-609fe54cf609",
   "metadata": {},
   "outputs": [
    {
     "data": {
      "image/png": "[encoded data removed]",
      "text/plain": [
       "<Figure size 800x600 with 2 Axes>"
      ]
     },
     "metadata": {},
     "output_type": "display_data"
    }
   ],
   "source": [
    "cm_final = metrics.confusion_matrix(y_test_final, y_pred_final)\n",
    "\n",
    "fig, ax = plt.subplots(figsize=(8, 6))\n",
    "sns.heatmap(cm_final, annot=True, fmt='d', cmap='Blues', ax=ax)\n",
    "ax.set_xlabel('Predicted Labels')\n",
    "ax.set_ylabel('True Labels')\n",
    "ax.set_title('Final Model Confusion Matrix (on Preprocessed Test Data)')\n",
    "plt.show()"
   ]
  },
  {
   "cell_type": "markdown",
   "id": "39ef2e80-e192-4ea3-bb72-f3c3da1fe0cb",
   "metadata": {},
   "source": [
    "#### Exporting Model "
   ]
  },
  {
   "cell_type": "code",
   "execution_count": 32,
   "id": "228c2e1a-f53e-4a3d-a09e-cb62b0cf6961",
   "metadata": {},
   "outputs": [
    {
     "data": {
      "text/plain": [
       "['saved_models/rf_robust_digit_classifier_v1.joblib']"
      ]
     },
     "execution_count": 32,
     "metadata": {},
     "output_type": "execute_result"
    }
   ],
   "source": [
    "model_filename = 'saved_models/rf_robust_digit_classifier_v1.joblib' \n",
    "joblib.dump(rf_classifier_final, model_filename)"
   ]
  },
  {
   "cell_type": "code",
   "execution_count": null,
   "id": "7a872d0d-393a-4bf1-9e19-6cc52c61943a",
   "metadata": {},
   "outputs": [],
   "source": []
  }
 ],
 "metadata": {
  "kernelspec": {
   "display_name": "Python 3 (ipykernel)",
   "language": "python",
   "name": "python3"
  },
  "language_info": {
   "codemirror_mode": {
    "name": "ipython",
    "version": 3
   },
   "file_extension": ".py",
   "mimetype": "text/x-python",
   "name": "python",
   "nbconvert_exporter": "python",
   "pygments_lexer": "ipython3",
   "version": "3.12.7"
  }
 },
 "nbformat": 4,
 "nbformat_minor": 5
}
